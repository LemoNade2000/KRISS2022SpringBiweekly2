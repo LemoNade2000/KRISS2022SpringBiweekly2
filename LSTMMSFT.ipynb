{
 "cells": [
  {
   "cell_type": "code",
   "execution_count": 7,
   "metadata": {},
   "outputs": [],
   "source": [
    "import numpy as np\n",
    "import pandas as pd\n",
    "from tensorflow import keras\n",
    "from keras.models import Sequential\n",
    "from keras.layers import LSTM, Dense\n",
    "from sklearn.preprocessing import MinMaxScaler\n",
    "from matplotlib import pyplot"
   ]
  },
  {
   "cell_type": "code",
   "execution_count": 9,
   "metadata": {},
   "outputs": [],
   "source": [
    "# Load and preprocess data\n",
    "data = pd.read_csv('BTC.csv')"
   ]
  },
  {
   "cell_type": "code",
   "execution_count": 10,
   "metadata": {},
   "outputs": [],
   "source": [
    "data = data['Close']"
   ]
  },
  {
   "cell_type": "code",
   "execution_count": 6,
   "metadata": {},
   "outputs": [
    {
     "data": {
      "text/plain": [
       "3613769"
      ]
     },
     "execution_count": 6,
     "metadata": {},
     "output_type": "execute_result"
    }
   ],
   "source": [
    "data.count()"
   ]
  },
  {
   "cell_type": "code",
   "execution_count": 5,
   "metadata": {},
   "outputs": [
    {
     "data": {
      "text/plain": [
       "1243608"
      ]
     },
     "execution_count": 5,
     "metadata": {},
     "output_type": "execute_result"
    }
   ],
   "source": [
    "data.isnull().sum()"
   ]
  },
  {
   "cell_type": "code",
   "execution_count": 12,
   "metadata": {},
   "outputs": [],
   "source": [
    "data = data.fillna(method='ffill')"
   ]
  },
  {
   "cell_type": "code",
   "execution_count": 14,
   "metadata": {},
   "outputs": [
    {
     "data": {
      "text/plain": [
       "0"
      ]
     },
     "execution_count": 14,
     "metadata": {},
     "output_type": "execute_result"
    }
   ],
   "source": [
    "data.isnull().sum()"
   ]
  },
  {
   "cell_type": "code",
   "execution_count": 15,
   "metadata": {},
   "outputs": [],
   "source": [
    "data = np.log(data)"
   ]
  },
  {
   "cell_type": "code",
   "execution_count": 16,
   "metadata": {},
   "outputs": [
    {
     "data": {
      "text/plain": [
       "[<matplotlib.lines.Line2D at 0x2050c4d8550>]"
      ]
     },
     "execution_count": 16,
     "metadata": {},
     "output_type": "execute_result"
    },
    {
     "data": {
      "image/png": "[encoded data removed]",
      "text/plain": [
       "<Figure size 640x480 with 1 Axes>"
      ]
     },
     "metadata": {},
     "output_type": "display_data"
    }
   ],
   "source": [
    "pyplot.plot(data)"
   ]
  },
  {
   "cell_type": "code",
   "execution_count": 17,
   "metadata": {},
   "outputs": [],
   "source": [
    "data = np.array(data).reshape(-1, 1)"
   ]
  },
  {
   "cell_type": "code",
   "execution_count": 18,
   "metadata": {},
   "outputs": [],
   "source": [
    "scaler = MinMaxScaler(feature_range=(0, 1))\n",
    "scaled_data = scaler.fit_transform(data)"
   ]
  },
  {
   "cell_type": "code",
   "execution_count": 19,
   "metadata": {},
   "outputs": [
    {
     "data": {
      "text/plain": [
       "array([[0.10106101],\n",
       "       [0.10106101],\n",
       "       [0.10106101],\n",
       "       ...,\n",
       "       [0.99522271],\n",
       "       [0.99528158],\n",
       "       [0.99530975]])"
      ]
     },
     "execution_count": 19,
     "metadata": {},
     "output_type": "execute_result"
    }
   ],
   "source": [
    "scaled_data"
   ]
  },
  {
   "cell_type": "code",
   "execution_count": 20,
   "metadata": {},
   "outputs": [],
   "source": [
    "train_size = int(len(scaled_data) * 0.9)\n",
    "test_size = len(scaled_data) - train_size\n",
    "# train_data, test_data = scaled_data[0:train_size,:], scaled_data[train_size:len(scaled_data),:]\n",
    "train_data, test_data = data[0:train_size,:], data[train_size:len(scaled_data),:]\n"
   ]
  },
  {
   "cell_type": "code",
   "execution_count": 21,
   "metadata": {},
   "outputs": [],
   "source": [
    "def create_dataset(dataset, look_back=1):\n",
    "    X, Y = [], []\n",
    "    for i in range(len(dataset)-look_back-1):\n",
    "        a = dataset[i:(i+look_back), 0]\n",
    "        X.append(a)\n",
    "        Y.append(dataset[i + look_back, 0])\n",
    "    return np.array(X), np.array(Y)"
   ]
  },
  {
   "cell_type": "code",
   "execution_count": 22,
   "metadata": {},
   "outputs": [],
   "source": [
    "look_back = 10\n",
    "train_X, train_Y = create_dataset(train_data, look_back)\n",
    "test_X, test_Y = create_dataset(test_data, look_back)"
   ]
  },
  {
   "cell_type": "code",
   "execution_count": 23,
   "metadata": {},
   "outputs": [],
   "source": [
    "train_X = np.reshape(train_X, (train_X.shape[0], 1, train_X.shape[1]))\n",
    "test_X = np.reshape(test_X, (test_X.shape[0], 1, test_X.shape[1]))\n"
   ]
  },
  {
   "cell_type": "code",
   "execution_count": 24,
   "metadata": {},
   "outputs": [
    {
     "name": "stdout",
     "output_type": "stream",
     "text": [
      "Epoch 1/10\n"
     ]
    },
    {
     "ename": "KeyboardInterrupt",
     "evalue": "",
     "output_type": "error",
     "traceback": [
      "\u001b[1;31m---------------------------------------------------------------------------\u001b[0m",
      "\u001b[1;31mKeyboardInterrupt\u001b[0m                         Traceback (most recent call last)",
      "\u001b[1;32m~\\AppData\\Local\\Temp\\ipykernel_6860\\2955585286.py\u001b[0m in \u001b[0;36m<module>\u001b[1;34m\u001b[0m\n\u001b[0;32m      5\u001b[0m \u001b[0mmodel\u001b[0m\u001b[1;33m.\u001b[0m\u001b[0madd\u001b[0m\u001b[1;33m(\u001b[0m\u001b[0mkeras\u001b[0m\u001b[1;33m.\u001b[0m\u001b[0mlayers\u001b[0m\u001b[1;33m.\u001b[0m\u001b[0mDropout\u001b[0m\u001b[1;33m(\u001b[0m\u001b[1;36m0.5\u001b[0m\u001b[1;33m)\u001b[0m\u001b[1;33m)\u001b[0m\u001b[1;33m\u001b[0m\u001b[1;33m\u001b[0m\u001b[0m\n\u001b[0;32m      6\u001b[0m \u001b[0mmodel\u001b[0m\u001b[1;33m.\u001b[0m\u001b[0mcompile\u001b[0m\u001b[1;33m(\u001b[0m\u001b[0mloss\u001b[0m\u001b[1;33m=\u001b[0m\u001b[1;34m'mean_squared_error'\u001b[0m\u001b[1;33m,\u001b[0m \u001b[0moptimizer\u001b[0m\u001b[1;33m=\u001b[0m\u001b[1;34m'adam'\u001b[0m\u001b[1;33m)\u001b[0m\u001b[1;33m\u001b[0m\u001b[1;33m\u001b[0m\u001b[0m\n\u001b[1;32m----> 7\u001b[1;33m \u001b[0mmodel\u001b[0m\u001b[1;33m.\u001b[0m\u001b[0mfit\u001b[0m\u001b[1;33m(\u001b[0m\u001b[0mtrain_X\u001b[0m\u001b[1;33m,\u001b[0m \u001b[0mtrain_Y\u001b[0m\u001b[1;33m,\u001b[0m \u001b[0mepochs\u001b[0m\u001b[1;33m=\u001b[0m\u001b[1;36m10\u001b[0m\u001b[1;33m,\u001b[0m \u001b[0mbatch_size\u001b[0m\u001b[1;33m=\u001b[0m\u001b[1;36m1\u001b[0m\u001b[1;33m,\u001b[0m \u001b[0mverbose\u001b[0m\u001b[1;33m=\u001b[0m\u001b[1;36m2\u001b[0m\u001b[1;33m)\u001b[0m\u001b[1;33m\u001b[0m\u001b[1;33m\u001b[0m\u001b[0m\n\u001b[0m",
      "\u001b[1;32mf:\\Conda\\lib\\site-packages\\keras\\utils\\traceback_utils.py\u001b[0m in \u001b[0;36merror_handler\u001b[1;34m(*args, **kwargs)\u001b[0m\n\u001b[0;32m     63\u001b[0m         \u001b[0mfiltered_tb\u001b[0m \u001b[1;33m=\u001b[0m \u001b[1;32mNone\u001b[0m\u001b[1;33m\u001b[0m\u001b[1;33m\u001b[0m\u001b[0m\n\u001b[0;32m     64\u001b[0m         \u001b[1;32mtry\u001b[0m\u001b[1;33m:\u001b[0m\u001b[1;33m\u001b[0m\u001b[1;33m\u001b[0m\u001b[0m\n\u001b[1;32m---> 65\u001b[1;33m             \u001b[1;32mreturn\u001b[0m \u001b[0mfn\u001b[0m\u001b[1;33m(\u001b[0m\u001b[1;33m*\u001b[0m\u001b[0margs\u001b[0m\u001b[1;33m,\u001b[0m \u001b[1;33m**\u001b[0m\u001b[0mkwargs\u001b[0m\u001b[1;33m)\u001b[0m\u001b[1;33m\u001b[0m\u001b[1;33m\u001b[0m\u001b[0m\n\u001b[0m\u001b[0;32m     66\u001b[0m         \u001b[1;32mexcept\u001b[0m \u001b[0mException\u001b[0m \u001b[1;32mas\u001b[0m \u001b[0me\u001b[0m\u001b[1;33m:\u001b[0m\u001b[1;33m\u001b[0m\u001b[1;33m\u001b[0m\u001b[0m\n\u001b[0;32m     67\u001b[0m             \u001b[0mfiltered_tb\u001b[0m \u001b[1;33m=\u001b[0m \u001b[0m_process_traceback_frames\u001b[0m\u001b[1;33m(\u001b[0m\u001b[0me\u001b[0m\u001b[1;33m.\u001b[0m\u001b[0m__traceback__\u001b[0m\u001b[1;33m)\u001b[0m\u001b[1;33m\u001b[0m\u001b[1;33m\u001b[0m\u001b[0m\n",
      "\u001b[1;32mf:\\Conda\\lib\\site-packages\\keras\\engine\\training.py\u001b[0m in \u001b[0;36mfit\u001b[1;34m(self, x, y, batch_size, epochs, verbose, callbacks, validation_split, validation_data, shuffle, class_weight, sample_weight, initial_epoch, steps_per_epoch, validation_steps, validation_batch_size, validation_freq, max_queue_size, workers, use_multiprocessing)\u001b[0m\n\u001b[0;32m   1562\u001b[0m                         ):\n\u001b[0;32m   1563\u001b[0m                             \u001b[0mcallbacks\u001b[0m\u001b[1;33m.\u001b[0m\u001b[0mon_train_batch_begin\u001b[0m\u001b[1;33m(\u001b[0m\u001b[0mstep\u001b[0m\u001b[1;33m)\u001b[0m\u001b[1;33m\u001b[0m\u001b[1;33m\u001b[0m\u001b[0m\n\u001b[1;32m-> 1564\u001b[1;33m                             \u001b[0mtmp_logs\u001b[0m \u001b[1;33m=\u001b[0m \u001b[0mself\u001b[0m\u001b[1;33m.\u001b[0m\u001b[0mtrain_function\u001b[0m\u001b[1;33m(\u001b[0m\u001b[0miterator\u001b[0m\u001b[1;33m)\u001b[0m\u001b[1;33m\u001b[0m\u001b[1;33m\u001b[0m\u001b[0m\n\u001b[0m\u001b[0;32m   1565\u001b[0m                             \u001b[1;32mif\u001b[0m \u001b[0mdata_handler\u001b[0m\u001b[1;33m.\u001b[0m\u001b[0mshould_sync\u001b[0m\u001b[1;33m:\u001b[0m\u001b[1;33m\u001b[0m\u001b[1;33m\u001b[0m\u001b[0m\n\u001b[0;32m   1566\u001b[0m                                 \u001b[0mcontext\u001b[0m\u001b[1;33m.\u001b[0m\u001b[0masync_wait\u001b[0m\u001b[1;33m(\u001b[0m\u001b[1;33m)\u001b[0m\u001b[1;33m\u001b[0m\u001b[1;33m\u001b[0m\u001b[0m\n",
      "\u001b[1;32mf:\\Conda\\lib\\site-packages\\tensorflow\\python\\util\\traceback_utils.py\u001b[0m in \u001b[0;36merror_handler\u001b[1;34m(*args, **kwargs)\u001b[0m\n\u001b[0;32m    148\u001b[0m     \u001b[0mfiltered_tb\u001b[0m \u001b[1;33m=\u001b[0m \u001b[1;32mNone\u001b[0m\u001b[1;33m\u001b[0m\u001b[1;33m\u001b[0m\u001b[0m\n\u001b[0;32m    149\u001b[0m     \u001b[1;32mtry\u001b[0m\u001b[1;33m:\u001b[0m\u001b[1;33m\u001b[0m\u001b[1;33m\u001b[0m\u001b[0m\n\u001b[1;32m--> 150\u001b[1;33m       \u001b[1;32mreturn\u001b[0m \u001b[0mfn\u001b[0m\u001b[1;33m(\u001b[0m\u001b[1;33m*\u001b[0m\u001b[0margs\u001b[0m\u001b[1;33m,\u001b[0m \u001b[1;33m**\u001b[0m\u001b[0mkwargs\u001b[0m\u001b[1;33m)\u001b[0m\u001b[1;33m\u001b[0m\u001b[1;33m\u001b[0m\u001b[0m\n\u001b[0m\u001b[0;32m    151\u001b[0m     \u001b[1;32mexcept\u001b[0m \u001b[0mException\u001b[0m \u001b[1;32mas\u001b[0m \u001b[0me\u001b[0m\u001b[1;33m:\u001b[0m\u001b[1;33m\u001b[0m\u001b[1;33m\u001b[0m\u001b[0m\n\u001b[0;32m    152\u001b[0m       \u001b[0mfiltered_tb\u001b[0m \u001b[1;33m=\u001b[0m \u001b[0m_process_traceback_frames\u001b[0m\u001b[1;33m(\u001b[0m\u001b[0me\u001b[0m\u001b[1;33m.\u001b[0m\u001b[0m__traceback__\u001b[0m\u001b[1;33m)\u001b[0m\u001b[1;33m\u001b[0m\u001b[1;33m\u001b[0m\u001b[0m\n",
      "\u001b[1;32mf:\\Conda\\lib\\site-packages\\tensorflow\\python\\eager\\def_function.py\u001b[0m in \u001b[0;36m__call__\u001b[1;34m(self, *args, **kwds)\u001b[0m\n\u001b[0;32m    913\u001b[0m \u001b[1;33m\u001b[0m\u001b[0m\n\u001b[0;32m    914\u001b[0m       \u001b[1;32mwith\u001b[0m \u001b[0mOptionalXlaContext\u001b[0m\u001b[1;33m(\u001b[0m\u001b[0mself\u001b[0m\u001b[1;33m.\u001b[0m\u001b[0m_jit_compile\u001b[0m\u001b[1;33m)\u001b[0m\u001b[1;33m:\u001b[0m\u001b[1;33m\u001b[0m\u001b[1;33m\u001b[0m\u001b[0m\n\u001b[1;32m--> 915\u001b[1;33m         \u001b[0mresult\u001b[0m \u001b[1;33m=\u001b[0m \u001b[0mself\u001b[0m\u001b[1;33m.\u001b[0m\u001b[0m_call\u001b[0m\u001b[1;33m(\u001b[0m\u001b[1;33m*\u001b[0m\u001b[0margs\u001b[0m\u001b[1;33m,\u001b[0m \u001b[1;33m**\u001b[0m\u001b[0mkwds\u001b[0m\u001b[1;33m)\u001b[0m\u001b[1;33m\u001b[0m\u001b[1;33m\u001b[0m\u001b[0m\n\u001b[0m\u001b[0;32m    916\u001b[0m \u001b[1;33m\u001b[0m\u001b[0m\n\u001b[0;32m    917\u001b[0m       \u001b[0mnew_tracing_count\u001b[0m \u001b[1;33m=\u001b[0m \u001b[0mself\u001b[0m\u001b[1;33m.\u001b[0m\u001b[0mexperimental_get_tracing_count\u001b[0m\u001b[1;33m(\u001b[0m\u001b[1;33m)\u001b[0m\u001b[1;33m\u001b[0m\u001b[1;33m\u001b[0m\u001b[0m\n",
      "\u001b[1;32mf:\\Conda\\lib\\site-packages\\tensorflow\\python\\eager\\def_function.py\u001b[0m in \u001b[0;36m_call\u001b[1;34m(self, *args, **kwds)\u001b[0m\n\u001b[0;32m    945\u001b[0m       \u001b[1;31m# In this case we have created variables on the first call, so we run the\u001b[0m\u001b[1;33m\u001b[0m\u001b[1;33m\u001b[0m\u001b[0m\n\u001b[0;32m    946\u001b[0m       \u001b[1;31m# defunned version which is guaranteed to never create variables.\u001b[0m\u001b[1;33m\u001b[0m\u001b[1;33m\u001b[0m\u001b[0m\n\u001b[1;32m--> 947\u001b[1;33m       \u001b[1;32mreturn\u001b[0m \u001b[0mself\u001b[0m\u001b[1;33m.\u001b[0m\u001b[0m_stateless_fn\u001b[0m\u001b[1;33m(\u001b[0m\u001b[1;33m*\u001b[0m\u001b[0margs\u001b[0m\u001b[1;33m,\u001b[0m \u001b[1;33m**\u001b[0m\u001b[0mkwds\u001b[0m\u001b[1;33m)\u001b[0m  \u001b[1;31m# pylint: disable=not-callable\u001b[0m\u001b[1;33m\u001b[0m\u001b[1;33m\u001b[0m\u001b[0m\n\u001b[0m\u001b[0;32m    948\u001b[0m     \u001b[1;32melif\u001b[0m \u001b[0mself\u001b[0m\u001b[1;33m.\u001b[0m\u001b[0m_stateful_fn\u001b[0m \u001b[1;32mis\u001b[0m \u001b[1;32mnot\u001b[0m \u001b[1;32mNone\u001b[0m\u001b[1;33m:\u001b[0m\u001b[1;33m\u001b[0m\u001b[1;33m\u001b[0m\u001b[0m\n\u001b[0;32m    949\u001b[0m       \u001b[1;31m# Release the lock early so that multiple threads can perform the call\u001b[0m\u001b[1;33m\u001b[0m\u001b[1;33m\u001b[0m\u001b[0m\n",
      "\u001b[1;32mf:\\Conda\\lib\\site-packages\\tensorflow\\python\\eager\\function.py\u001b[0m in \u001b[0;36m__call__\u001b[1;34m(self, *args, **kwargs)\u001b[0m\n\u001b[0;32m   2494\u001b[0m       (graph_function,\n\u001b[0;32m   2495\u001b[0m        filtered_flat_args) = self._maybe_define_function(args, kwargs)\n\u001b[1;32m-> 2496\u001b[1;33m     return graph_function._call_flat(\n\u001b[0m\u001b[0;32m   2497\u001b[0m         filtered_flat_args, captured_inputs=graph_function.captured_inputs)  # pylint: disable=protected-access\n\u001b[0;32m   2498\u001b[0m \u001b[1;33m\u001b[0m\u001b[0m\n",
      "\u001b[1;32mf:\\Conda\\lib\\site-packages\\tensorflow\\python\\eager\\function.py\u001b[0m in \u001b[0;36m_call_flat\u001b[1;34m(self, args, captured_inputs, cancellation_manager)\u001b[0m\n\u001b[0;32m   1860\u001b[0m         and executing_eagerly):\n\u001b[0;32m   1861\u001b[0m       \u001b[1;31m# No tape is watching; skip to running the function.\u001b[0m\u001b[1;33m\u001b[0m\u001b[1;33m\u001b[0m\u001b[0m\n\u001b[1;32m-> 1862\u001b[1;33m       return self._build_call_outputs(self._inference_function.call(\n\u001b[0m\u001b[0;32m   1863\u001b[0m           ctx, args, cancellation_manager=cancellation_manager))\n\u001b[0;32m   1864\u001b[0m     forward_backward = self._select_forward_and_backward_functions(\n",
      "\u001b[1;32mf:\\Conda\\lib\\site-packages\\tensorflow\\python\\eager\\function.py\u001b[0m in \u001b[0;36mcall\u001b[1;34m(self, ctx, args, cancellation_manager)\u001b[0m\n\u001b[0;32m    497\u001b[0m       \u001b[1;32mwith\u001b[0m \u001b[0m_InterpolateFunctionError\u001b[0m\u001b[1;33m(\u001b[0m\u001b[0mself\u001b[0m\u001b[1;33m)\u001b[0m\u001b[1;33m:\u001b[0m\u001b[1;33m\u001b[0m\u001b[1;33m\u001b[0m\u001b[0m\n\u001b[0;32m    498\u001b[0m         \u001b[1;32mif\u001b[0m \u001b[0mcancellation_manager\u001b[0m \u001b[1;32mis\u001b[0m \u001b[1;32mNone\u001b[0m\u001b[1;33m:\u001b[0m\u001b[1;33m\u001b[0m\u001b[1;33m\u001b[0m\u001b[0m\n\u001b[1;32m--> 499\u001b[1;33m           outputs = execute.execute(\n\u001b[0m\u001b[0;32m    500\u001b[0m               \u001b[0mstr\u001b[0m\u001b[1;33m(\u001b[0m\u001b[0mself\u001b[0m\u001b[1;33m.\u001b[0m\u001b[0msignature\u001b[0m\u001b[1;33m.\u001b[0m\u001b[0mname\u001b[0m\u001b[1;33m)\u001b[0m\u001b[1;33m,\u001b[0m\u001b[1;33m\u001b[0m\u001b[1;33m\u001b[0m\u001b[0m\n\u001b[0;32m    501\u001b[0m               \u001b[0mnum_outputs\u001b[0m\u001b[1;33m=\u001b[0m\u001b[0mself\u001b[0m\u001b[1;33m.\u001b[0m\u001b[0m_num_outputs\u001b[0m\u001b[1;33m,\u001b[0m\u001b[1;33m\u001b[0m\u001b[1;33m\u001b[0m\u001b[0m\n",
      "\u001b[1;32mf:\\Conda\\lib\\site-packages\\tensorflow\\python\\eager\\execute.py\u001b[0m in \u001b[0;36mquick_execute\u001b[1;34m(op_name, num_outputs, inputs, attrs, ctx, name)\u001b[0m\n\u001b[0;32m     52\u001b[0m   \u001b[1;32mtry\u001b[0m\u001b[1;33m:\u001b[0m\u001b[1;33m\u001b[0m\u001b[1;33m\u001b[0m\u001b[0m\n\u001b[0;32m     53\u001b[0m     \u001b[0mctx\u001b[0m\u001b[1;33m.\u001b[0m\u001b[0mensure_initialized\u001b[0m\u001b[1;33m(\u001b[0m\u001b[1;33m)\u001b[0m\u001b[1;33m\u001b[0m\u001b[1;33m\u001b[0m\u001b[0m\n\u001b[1;32m---> 54\u001b[1;33m     tensors = pywrap_tfe.TFE_Py_Execute(ctx._handle, device_name, op_name,\n\u001b[0m\u001b[0;32m     55\u001b[0m                                         inputs, attrs, num_outputs)\n\u001b[0;32m     56\u001b[0m   \u001b[1;32mexcept\u001b[0m \u001b[0mcore\u001b[0m\u001b[1;33m.\u001b[0m\u001b[0m_NotOkStatusException\u001b[0m \u001b[1;32mas\u001b[0m \u001b[0me\u001b[0m\u001b[1;33m:\u001b[0m\u001b[1;33m\u001b[0m\u001b[1;33m\u001b[0m\u001b[0m\n",
      "\u001b[1;31mKeyboardInterrupt\u001b[0m: "
     ]
    }
   ],
   "source": [
    "model = Sequential()\n",
    "model.add(LSTM(50, input_shape=(1, look_back), unit_forget_bias= False))\n",
    "model.add(keras.layers.Dropout(0.5))\n",
    "model.add(Dense(128))\n",
    "model.add(keras.layers.Dropout(0.5))\n",
    "model.compile(loss='mean_squared_error', optimizer='adam')\n",
    "model.fit(train_X, train_Y, epochs=10, batch_size=128, verbose=2)\n"
   ]
  },
  {
   "cell_type": "code",
   "execution_count": 74,
   "metadata": {},
   "outputs": [
    {
     "name": "stdout",
     "output_type": "stream",
     "text": [
      "10/10 [==============================] - 0s 1ms/step\n",
      "Test RMSE: 0.2391053883310642\n",
      "[[5.2107196]\n",
      " [5.2110047]\n",
      " [5.226696 ]\n",
      " [5.2429013]\n",
      " [5.25785  ]\n",
      " [5.25961  ]\n",
      " [5.2492633]\n",
      " [5.247866 ]\n",
      " [5.2465696]\n",
      " [5.2490478]\n",
      " [5.2531056]\n",
      " [5.254498 ]\n",
      " [5.2497945]\n",
      " [5.2476916]\n",
      " [5.240999 ]\n",
      " [5.2378   ]\n",
      " [5.2413135]\n",
      " [5.24349  ]\n",
      " [5.24706  ]\n",
      " [5.248202 ]\n",
      " [5.249601 ]\n",
      " [5.2500057]\n",
      " [5.2500944]\n",
      " [5.2484927]\n",
      " [5.248771 ]\n",
      " [5.2508283]\n",
      " [5.2481737]\n",
      " [5.243843 ]\n",
      " [5.2432404]\n",
      " [5.2452836]\n",
      " [5.246366 ]\n",
      " [5.253279 ]\n",
      " [5.2580066]\n",
      " [5.2611938]\n",
      " [5.266792 ]\n",
      " [5.271205 ]\n",
      " [5.272099 ]\n",
      " [5.2752795]\n",
      " [5.2784905]\n",
      " [5.2809567]\n",
      " [5.2811646]\n",
      " [5.2802334]\n",
      " [5.2742677]\n",
      " [5.271416 ]\n",
      " [5.2620106]\n",
      " [5.2616076]\n",
      " [5.2641215]\n",
      " [5.2657876]\n",
      " [5.261209 ]\n",
      " [5.260211 ]\n",
      " [5.253948 ]\n",
      " [5.2505965]\n",
      " [5.251156 ]\n",
      " [5.2613554]\n",
      " [5.2721524]\n",
      " [5.2804193]\n",
      " [5.2869987]\n",
      " [5.2951093]\n",
      " [5.3015914]\n",
      " [5.311801 ]\n",
      " [5.312341 ]\n",
      " [5.321293 ]\n",
      " [5.3277287]\n",
      " [5.3355517]\n",
      " [5.3394384]\n",
      " [5.344449 ]\n",
      " [5.3447576]\n",
      " [5.3493633]\n",
      " [5.3495526]\n",
      " [5.3517175]\n",
      " [5.354706 ]\n",
      " [5.355432 ]\n",
      " [5.3566628]\n",
      " [5.356812 ]\n",
      " [5.3540635]\n",
      " [5.345892 ]\n",
      " [5.3378305]\n",
      " [5.333029 ]\n",
      " [5.3258524]\n",
      " [5.3235707]\n",
      " [5.326849 ]\n",
      " [5.3272777]\n",
      " [5.3206124]\n",
      " [5.3129897]\n",
      " [5.3106384]\n",
      " [5.308309 ]\n",
      " [5.3129606]\n",
      " [5.3141685]\n",
      " [5.3217535]\n",
      " [5.3251915]\n",
      " [5.325993 ]\n",
      " [5.326188 ]\n",
      " [5.329702 ]\n",
      " [5.3241787]\n",
      " [5.3198614]\n",
      " [5.3222995]\n",
      " [5.3267603]\n",
      " [5.329559 ]\n",
      " [5.326492 ]\n",
      " [5.327304 ]\n",
      " [5.327959 ]\n",
      " [5.3247404]\n",
      " [5.3244605]\n",
      " [5.3327384]\n",
      " [5.3466797]\n",
      " [5.3562155]\n",
      " [5.3623996]\n",
      " [5.3689423]\n",
      " [5.377536 ]\n",
      " [5.382354 ]\n",
      " [5.3884153]\n",
      " [5.3907013]\n",
      " [5.396846 ]\n",
      " [5.401687 ]\n",
      " [5.4031224]\n",
      " [5.4034457]\n",
      " [5.4063945]\n",
      " [5.404548 ]\n",
      " [5.40754  ]\n",
      " [5.409587 ]\n",
      " [5.411592 ]\n",
      " [5.4069843]\n",
      " [5.4008574]\n",
      " [5.3940578]\n",
      " [5.391402 ]\n",
      " [5.385305 ]\n",
      " [5.3801284]\n",
      " [5.379068 ]\n",
      " [5.3820925]\n",
      " [5.3791165]\n",
      " [5.3746037]\n",
      " [5.3639846]\n",
      " [5.3603573]\n",
      " [5.362895 ]\n",
      " [5.3635874]\n",
      " [5.3614373]\n",
      " [5.3615465]\n",
      " [5.3625402]\n",
      " [5.3631067]\n",
      " [5.368532 ]\n",
      " [5.372538 ]\n",
      " [5.377879 ]\n",
      " [5.3783956]\n",
      " [5.377788 ]\n",
      " [5.3743205]\n",
      " [5.373722 ]\n",
      " [5.371041 ]\n",
      " [5.374389 ]\n",
      " [5.3806047]\n",
      " [5.3844795]\n",
      " [5.3865676]\n",
      " [5.3912377]\n",
      " [5.3948927]\n",
      " [5.3998423]\n",
      " [5.40161  ]\n",
      " [5.40174  ]\n",
      " [5.405685 ]\n",
      " [5.4073625]\n",
      " [5.4105473]\n",
      " [5.41637  ]\n",
      " [5.420643 ]\n",
      " [5.424251 ]\n",
      " [5.425688 ]\n",
      " [5.428157 ]\n",
      " [5.433453 ]\n",
      " [5.4375315]\n",
      " [5.4400306]\n",
      " [5.447696 ]\n",
      " [5.452808 ]\n",
      " [5.4587545]\n",
      " [5.460249 ]\n",
      " [5.461172 ]\n",
      " [5.461635 ]\n",
      " [5.4654946]\n",
      " [5.4685826]\n",
      " [5.471457 ]\n",
      " [5.472456 ]\n",
      " [5.4698424]\n",
      " [5.4689455]\n",
      " [5.470249 ]\n",
      " [5.4757442]\n",
      " [5.482821 ]\n",
      " [5.4885545]\n",
      " [5.4889283]\n",
      " [5.4884734]\n",
      " [5.48746  ]\n",
      " [5.4859996]\n",
      " [5.4856925]\n",
      " [5.4874372]\n",
      " [5.4889584]\n",
      " [5.4922824]\n",
      " [5.49401  ]\n",
      " [5.494065 ]\n",
      " [5.492518 ]\n",
      " [5.4917207]\n",
      " [5.492737 ]\n",
      " [5.497309 ]\n",
      " [5.5020394]\n",
      " [5.504293 ]\n",
      " [5.5041533]\n",
      " [5.5077267]\n",
      " [5.5162406]\n",
      " [5.5235753]\n",
      " [5.527572 ]\n",
      " [5.529134 ]\n",
      " [5.5274177]\n",
      " [5.5265675]\n",
      " [5.5285354]\n",
      " [5.5295672]\n",
      " [5.5316377]\n",
      " [5.5323563]\n",
      " [5.53146  ]\n",
      " [5.5300403]\n",
      " [5.529345 ]\n",
      " [5.5259404]\n",
      " [5.5233235]\n",
      " [5.522087 ]\n",
      " [5.5232973]\n",
      " [5.5283427]\n",
      " [5.5329504]\n",
      " [5.5318346]\n",
      " [5.5258136]\n",
      " [5.5209236]\n",
      " [5.52013  ]\n",
      " [5.522041 ]\n",
      " [5.5240254]\n",
      " [5.5215626]\n",
      " [5.5108457]\n",
      " [5.5016193]\n",
      " [5.4928823]\n",
      " [5.4933734]\n",
      " [5.491315 ]\n",
      " [5.4946527]\n",
      " [5.4987845]\n",
      " [5.5048547]\n",
      " [5.506243 ]\n",
      " [5.5077395]\n",
      " [5.5062737]\n",
      " [5.5096235]\n",
      " [5.516758 ]\n",
      " [5.522976 ]\n",
      " [5.5311556]\n",
      " [5.5370812]\n",
      " [5.5398436]\n",
      " [5.5436454]\n",
      " [5.545373 ]\n",
      " [5.545545 ]\n",
      " [5.54804  ]\n",
      " [5.559139 ]\n",
      " [5.5684915]\n",
      " [5.5809636]\n",
      " [5.5867677]\n",
      " [5.59313  ]\n",
      " [5.5973763]\n",
      " [5.6027594]\n",
      " [5.604918 ]\n",
      " [5.609648 ]\n",
      " [5.611689 ]\n",
      " [5.609902 ]\n",
      " [5.608757 ]\n",
      " [5.610607 ]\n",
      " [5.6125774]\n",
      " [5.616371 ]\n",
      " [5.6191735]\n",
      " [5.6218843]\n",
      " [5.625266 ]\n",
      " [5.6252737]\n",
      " [5.622767 ]\n",
      " [5.62221  ]\n",
      " [5.6162496]\n",
      " [5.616163 ]\n",
      " [5.6130476]\n",
      " [5.6104436]\n",
      " [5.6079497]\n",
      " [5.602506 ]\n",
      " [5.598371 ]\n",
      " [5.603612 ]\n",
      " [5.606625 ]\n",
      " [5.6085844]\n",
      " [5.615834 ]\n",
      " [5.617576 ]\n",
      " [5.61278  ]\n",
      " [5.611534 ]\n",
      " [5.6038327]\n",
      " [5.599134 ]\n",
      " [5.5940747]\n",
      " [5.5941873]\n",
      " [5.598704 ]\n",
      " [5.6067963]\n",
      " [5.6130447]\n",
      " [5.6182575]] [5.30717126 5.35429224 5.38568125 5.38760511 5.36349231 5.32911544\n",
      " 5.35503133 5.34989237 5.3548467  5.35816661 5.34533318 5.33206171\n",
      " 5.33838993 5.32878743 5.32745572 5.34514616 5.34519283 5.35153179\n",
      " 5.34612758 5.35607469 5.35218191 5.3469215  5.34748152 5.34715469\n",
      " 5.35514926 5.3354669  5.32940517 5.34233659 5.34673471 5.34640778\n",
      " 5.37017391 5.37081225 5.36702241 5.38515601 5.39120276 5.37807772\n",
      " 5.38587461 5.3957471  5.39214003 5.38105937 5.38439196 5.36289656\n",
      " 5.36386072 5.33758936 5.3656489  5.37172337 5.3619775  5.35013697\n",
      " 5.35667581 5.34121046 5.33947209 5.35713796 5.3929873  5.39579154\n",
      " 5.40013818 5.4158582  5.42798326 5.43043363 5.45599514 5.42638956\n",
      " 5.45900408 5.45841971 5.47288596 5.46880362 5.46958839 5.47070247\n",
      " 5.47604982 5.47214501 5.47899904 5.48104193 5.47576249 5.48011261\n",
      " 5.47843217 5.4667975  5.43962323 5.43432165 5.43979379 5.41580346\n",
      " 5.43049894 5.44993194 5.43689041 5.40953907 5.40588496 5.42713676\n",
      " 5.40879165 5.43650562 5.43067119 5.45073362 5.44489693 5.44090165\n",
      " 5.45317659 5.45035387 5.42332986 5.42172495 5.44591437 5.45262947\n",
      " 5.44366617 5.4303268  5.44798866 5.44273129 5.42821564 5.44498179\n",
      " 5.47250805 5.49985903 5.4949891  5.50318581 5.51650211 5.52671643\n",
      " 5.52695089 5.53698211 5.5256996  5.54088158 5.54564857 5.5379487\n",
      " 5.53609177 5.54503486 5.5318625  5.54722003 5.54875055 5.5503551\n",
      " 5.52166158 5.51357585 5.5122681  5.51099842 5.49470666 5.48936532\n",
      " 5.50250535 5.51337786 5.49224184 5.48839116 5.45858859 5.47531005\n",
      " 5.49615845 5.48411766 5.47551559 5.47798661 5.49171242 5.48638335\n",
      " 5.5090076  5.51274882 5.51183472 5.50312856 5.50461157 5.49543792\n",
      " 5.49503372 5.48858356 5.5090474  5.52101746 5.5161199  5.52015024\n",
      " 5.53444089 5.53696462 5.54469    5.53878526 5.53498514 5.54856868\n",
      " 5.54291844 5.55517769 5.56608412 5.56517977 5.57051832 5.56423682\n",
      " 5.5781014  5.58802524 5.58618123 5.58876196 5.61079268 5.61082885\n",
      " 5.61897094 5.6099642  5.61183674 5.60960358 5.62271487 5.62814548\n",
      " 5.62289279 5.62189588 5.60848513 5.61678941 5.62420853 5.6409127\n",
      " 5.65317393 5.6510312  5.64230956 5.64119214 5.6421699  5.63660506\n",
      " 5.63628896 5.64433168 5.64220506 5.65265578 5.6524486  5.64853701\n",
      " 5.64196053 5.64373948 5.65365695 5.66409217 5.67004991 5.66487722\n",
      " 5.6587391  5.67930159 5.70455529 5.70550757 5.69882197 5.69680435\n",
      " 5.68708863 5.68919271 5.7020222  5.69637371 5.69620788 5.69395252\n",
      " 5.69391934 5.69072642 5.69082628 5.68091756 5.6757232  5.68004251\n",
      " 5.68942627 5.70606553 5.70737688 5.6896931  5.67094363 5.67264116\n",
      " 5.685382   5.68865872 5.68795754 5.67050203 5.63362664 5.63531829\n",
      " 5.6279674  5.6531169  5.63217945 5.65193993 5.66689195 5.67281084\n",
      " 5.67281084 5.67070582 5.66610699 5.67775025 5.69925135 5.70406238\n",
      " 5.714136   5.71719031 5.71452655 5.72536501 5.72020291 5.71686597\n",
      " 5.723271   5.76452255 5.76816725 5.79033378 5.78352578 5.79487689\n",
      " 5.79748494 5.80476391 5.8036337  5.80639734 5.80330638 5.78785804\n",
      " 5.79277335 5.80559584 5.80366353 5.81384754 5.81452591 5.82084594\n",
      " 5.82622298 5.81661731 5.8102705  5.81095157 5.78629424 5.80715619\n",
      " 5.78905086 5.78750699 5.78571783 5.76585529 5.77565185 5.80206361\n",
      " 5.80221287 5.79661461 5.82456033 5.81535131 5.78222149 5.80125715\n",
      " 5.77168932 5.76829792 5.75621165 5.77901854 5.79691484 5.80137664\n",
      " 5.82429751 5.82078721 5.82283649]\n"
     ]
    }
   ],
   "source": [
    "test_predictions = model.predict(test_X)\n",
    "\n",
    "# Transform predictions back to original scale\n",
    "# test_predictions = scaler.inverse_transform(test_predictions)\n",
    "# test_Y_inverse = scaler.inverse_transform(test_Y.reshape(-1, 1))\n",
    "# Calculate RMSE for test predictions\n",
    "test_rmse = np.sqrt(np.mean((test_predictions - test_Y)**2))\n",
    "print(f'Test RMSE: {test_rmse}')\n",
    "print(test_predictions, test_Y)"
   ]
  },
  {
   "cell_type": "code",
   "execution_count": 70,
   "metadata": {},
   "outputs": [
    {
     "data": {
      "image/png": "[encoded data removed]",
      "text/plain": [
       "<Figure size 640x480 with 1 Axes>"
      ]
     },
     "metadata": {},
     "output_type": "display_data"
    }
   ],
   "source": [
    "from matplotlib import pyplot\n",
    "\n",
    "pyplot.plot(test_predictions)\n",
    "pyplot.plot(test_Y, color='red')\n",
    "pyplot.show()"
   ]
  }
 ],
 "metadata": {
  "kernelspec": {
   "display_name": "ml",
   "language": "python",
   "name": "python3"
  },
  "language_info": {
   "codemirror_mode": {
    "name": "ipython",
    "version": 3
   },
   "file_extension": ".py",
   "mimetype": "text/x-python",
   "name": "python",
   "nbconvert_exporter": "python",
   "pygments_lexer": "ipython3",
   "version": "3.9.13"
  },
  "orig_nbformat": 4
 },
 "nbformat": 4,
 "nbformat_minor": 2
}
